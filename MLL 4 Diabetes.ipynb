{
 "cells": [
  {
   "cell_type": "markdown",
   "metadata": {},
   "source": [
    "# Diabetes Dataset"
   ]
  },
  {
   "cell_type": "markdown",
   "metadata": {},
   "source": [
    "## --> Create Dataframe"
   ]
  },
  {
   "cell_type": "code",
   "execution_count": null,
   "metadata": {},
   "outputs": [],
   "source": [
    "import pandas as pd\n",
    "\n",
    "url='https://drive.google.com/file/d/1mfqBb3LV4vUQzyMf6nEyTq_1QCAJ2wk5/view?usp=share_link'\n",
    "url='https://drive.google.com/uc?id=' + url.split('/')[-2]\n",
    "\n",
    "df = pd.read_csv(url)\n",
    "df"
   ]
  },
  {
   "cell_type": "code",
   "execution_count": null,
   "metadata": {},
   "outputs": [],
   "source": []
  },
  {
   "cell_type": "markdown",
   "metadata": {},
   "source": [
    "## 1) Preprocess Dataset"
   ]
  },
  {
   "cell_type": "code",
   "execution_count": null,
   "metadata": {},
   "outputs": [],
   "source": [
    "df.info()"
   ]
  },
  {
   "cell_type": "code",
   "execution_count": null,
   "metadata": {},
   "outputs": [],
   "source": [
    "df.describe()"
   ]
  },
  {
   "cell_type": "code",
   "execution_count": null,
   "metadata": {},
   "outputs": [],
   "source": [
    "df.isnull().sum()"
   ]
  },
  {
   "cell_type": "markdown",
   "metadata": {},
   "source": [
    "Except for pregnancies and insulin level, any of the other parameters (like skin thickness) cannot be zero"
   ]
  },
  {
   "cell_type": "markdown",
   "metadata": {},
   "source": [
    "### --> Check how many such rows have 0"
   ]
  },
  {
   "cell_type": "code",
   "execution_count": null,
   "metadata": {},
   "outputs": [],
   "source": [
    "problem_df = df[(df['Glucose']==0)|(df['BloodPressure']==0)|(df['SkinThickness']==0)|(df['BMI']==0)]\n",
    "problem_df"
   ]
  },
  {
   "cell_type": "markdown",
   "metadata": {},
   "source": [
    "236 of the 736 rows have incorrect values. As they make up for approx. 30% of the dataset, removing or replacing them will greatly<br>affect the prediction accuracy. We will try both and see which one yields more accuracy"
   ]
  },
  {
   "cell_type": "markdown",
   "metadata": {},
   "source": [
    "### 1A) Replace the zeroes in the 4 columns with their respective means"
   ]
  },
  {
   "cell_type": "code",
   "execution_count": null,
   "metadata": {},
   "outputs": [],
   "source": [
    "df_rep = df.copy()   # create new dataframe in which the zero values will be replaced\n",
    "\n",
    "columns = ['Glucose','BloodPressure', 'SkinThickness', 'BMI']\n",
    "for col in columns:\n",
    "    val = df[col].mean()\n",
    "    df_rep[col] = df[col].replace(0, val)"
   ]
  },
  {
   "cell_type": "code",
   "execution_count": null,
   "metadata": {},
   "outputs": [],
   "source": [
    "df_rep.describe()"
   ]
  },
  {
   "cell_type": "code",
   "execution_count": null,
   "metadata": {},
   "outputs": [],
   "source": [
    "df_rep.shape"
   ]
  },
  {
   "cell_type": "markdown",
   "metadata": {},
   "source": [
    "### 1B) Remove rows with zeroes entirely"
   ]
  },
  {
   "cell_type": "code",
   "execution_count": null,
   "metadata": {},
   "outputs": [],
   "source": [
    "df_rem = df.copy()  # create new dataframe in which zero entries are removed entirely\n",
    "\n",
    "df_rem = df[(df['Glucose']!=0) & (df['BloodPressure']!=0) & (df['SkinThickness']!=0) & (df['BMI']!=0)]\n",
    "df_rem.describe()"
   ]
  },
  {
   "cell_type": "code",
   "execution_count": null,
   "metadata": {},
   "outputs": [],
   "source": [
    "df_rem.shape"
   ]
  },
  {
   "cell_type": "markdown",
   "metadata": {},
   "source": [
    "## 2) KNN Prediction"
   ]
  },
  {
   "cell_type": "markdown",
   "metadata": {},
   "source": [
    "We will have to execute this step twice, once for<br>A) df_rep (replaced) and once for<br>B) df_rem (removed)"
   ]
  },
  {
   "cell_type": "markdown",
   "metadata": {},
   "source": [
    "### 2A) Df_rep"
   ]
  },
  {
   "cell_type": "code",
   "execution_count": null,
   "metadata": {},
   "outputs": [],
   "source": [
    "# 1) Separate\n",
    "X_rep = df_rep.iloc[:, :8].values   # Independent\n",
    "y_rep = df_rep['Outcome'].values    # Dependent"
   ]
  },
  {
   "cell_type": "code",
   "execution_count": null,
   "metadata": {},
   "outputs": [],
   "source": [
    "# 2) Split\n",
    "\n",
    "from sklearn.model_selection import train_test_split as tts\n",
    "X_train_rep, X_test_rep, y_train_rep, y_test_rep = tts(X_rep, y_rep, test_size=0.2)"
   ]
  },
  {
   "cell_type": "code",
   "execution_count": null,
   "metadata": {},
   "outputs": [],
   "source": [
    "# 3) Scale\n",
    "\n",
    "'''\n",
    "If we do not normalize the data, the features with higher\n",
    "values could be considered more important by the algorithm,\n",
    "resulting in an imperfect prediction result.\n",
    "'''\n",
    "\n",
    "from sklearn.preprocessing import StandardScaler\n",
    "sc = StandardScaler()\n",
    "\n",
    "X_train_rep = sc.fit_transform(X_train_rep)\n",
    "X_test_rep = sc.fit_transform(X_test_rep)"
   ]
  },
  {
   "cell_type": "code",
   "execution_count": null,
   "metadata": {},
   "outputs": [],
   "source": [
    "# 4) Train & Predict\n",
    "\n",
    "# We will find the optimal value of 'k' by testing it for\n",
    "# values from 1 to 100\n",
    "\n",
    "from sklearn.neighbors import KNeighborsClassifier"
   ]
  },
  {
   "cell_type": "code",
   "execution_count": null,
   "metadata": {},
   "outputs": [],
   "source": [
    "test_scores = []\n",
    "\n",
    "for i in range(1, 101):\n",
    "\n",
    "    knn_model_rep = KNeighborsClassifier(i)\n",
    "    knn_model_rep.fit(X_train_rep, y_train_rep.ravel())\n",
    "    \n",
    "    test_scores.append(knn_model_rep.score(X_test_rep, y_test_rep))"
   ]
  },
  {
   "cell_type": "code",
   "execution_count": null,
   "metadata": {},
   "outputs": [],
   "source": [
    "import matplotlib.pyplot as plt\n",
    "\n",
    "def best_k_value_plot():\n",
    "    plt.figure(figsize = (18, 9))\n",
    "    plt.plot(range(1,101), test_scores, color='red', linestyle='dashed', marker='o',\n",
    "             markerfacecolor='blue', markersize=10)\n",
    "    plt.title('Best k value is??')\n",
    "    plt.xlabel('k Value')\n",
    "    plt.ylabel('Score')\n",
    "\n",
    "best_k_value_plot()"
   ]
  },
  {
   "cell_type": "code",
   "execution_count": null,
   "metadata": {},
   "outputs": [],
   "source": [
    "knn_model_rep = KNeighborsClassifier(27)\n",
    "knn_model_rep.fit(X_train_rep, y_train_rep.ravel())\n",
    "knn_pred_rep = knn_model_rep.predict(X_test_rep)"
   ]
  },
  {
   "cell_type": "markdown",
   "metadata": {},
   "source": [
    "### 2B) Df_rem"
   ]
  },
  {
   "cell_type": "code",
   "execution_count": null,
   "metadata": {},
   "outputs": [],
   "source": [
    "X_rem = df_rem.iloc[:, :8].values   # Independent  # 1) Separate\n",
    "y_rem = df_rem['Outcome'].values    # Dependent\n",
    "\n",
    "X_train_rem, X_test_rem, y_train_rem, y_test_rem = tts(X_rem, y_rem, test_size=0.2)  # 2) Split\n",
    "\n",
    "X_train_rem = sc.fit_transform(X_train_rem)  # 3) Scale\n",
    "X_test_rem = sc.fit_transform(X_test_rem)\n",
    "\n",
    "test_scores = []                             # 4) Train and Predict\n",
    "\n",
    "for i in range(1, 101):                       # Find best value for k, similar to 2A\n",
    "\n",
    "    knn_model_rem = KNeighborsClassifier(i)\n",
    "    knn_model_rem.fit(X_train_rem, y_train_rem.ravel())\n",
    "    \n",
    "    test_scores.append(knn_model_rem.score(X_test_rem, y_test_rem))\n",
    "\n",
    "best_k_value_plot()"
   ]
  },
  {
   "cell_type": "code",
   "execution_count": null,
   "metadata": {},
   "outputs": [],
   "source": [
    "knn_model_rem = KNeighborsClassifier(25)\n",
    "knn_model_rem.fit(X_train_rem, y_train_rem.ravel())\n",
    "knn_pred_rem = knn_model_rem.predict(X_test_rem)"
   ]
  },
  {
   "cell_type": "markdown",
   "metadata": {},
   "source": [
    "## 3) Accuracy Metrics"
   ]
  },
  {
   "cell_type": "markdown",
   "metadata": {},
   "source": [
    "### i] Confusion Matrix"
   ]
  },
  {
   "cell_type": "code",
   "execution_count": null,
   "metadata": {},
   "outputs": [],
   "source": [
    "from sklearn.metrics import confusion_matrix\n",
    "import tensorflow as tf\n",
    "import seaborn as sn\n",
    "import matplotlib.pyplot as plt\n",
    "\n",
    "def plot_confusion_matrix(cm, pltitle):\n",
    "\n",
    "    plt.figure(figsize=(10,7))\n",
    "    sn.heatmap(cm, annot=True, fmt='d')\n",
    "    plt.title(pltitle, fontsize=18)\n",
    "    plt.xlabel('Predicted')\n",
    "    plt.ylabel('Actuals')"
   ]
  },
  {
   "cell_type": "code",
   "execution_count": null,
   "metadata": {},
   "outputs": [],
   "source": [
    "conf_matrix_rep = tf.math.confusion_matrix(labels=y_test_rep, predictions=knn_pred_rep) # A) Replaced\n",
    "conf_matrix_rem = tf.math.confusion_matrix(labels=y_test_rem, predictions=knn_pred_rem) # B) Removed"
   ]
  },
  {
   "cell_type": "code",
   "execution_count": null,
   "metadata": {},
   "outputs": [],
   "source": [
    "plot_confusion_matrix(conf_matrix_rep, 'Confusion Matrix Replaced')"
   ]
  },
  {
   "cell_type": "code",
   "execution_count": null,
   "metadata": {},
   "outputs": [],
   "source": [
    "plot_confusion_matrix(conf_matrix_rem, 'Confusion Matrix Removed')"
   ]
  },
  {
   "cell_type": "markdown",
   "metadata": {},
   "source": [
    "### ii] Accuracy, Precision and Recall"
   ]
  },
  {
   "cell_type": "code",
   "execution_count": null,
   "metadata": {},
   "outputs": [],
   "source": [
    "from sklearn.metrics import classification_report as clarep\n",
    "clarep_rep = clarep(y_test_rep, knn_pred_rep)\n",
    "clarep_rem = clarep(y_test_rem, knn_pred_rem)\n",
    "print(f'Replaced:-\\n{clarep_rep}')\n",
    "print(f'Removed:-\\n{clarep_rem}')"
   ]
  },
  {
   "cell_type": "markdown",
   "metadata": {},
   "source": [
    "### iii] Error Rate"
   ]
  },
  {
   "cell_type": "code",
   "execution_count": null,
   "metadata": {},
   "outputs": [],
   "source": [
    "from sklearn import metrics"
   ]
  },
  {
   "cell_type": "code",
   "execution_count": null,
   "metadata": {},
   "outputs": [],
   "source": [
    "knn_rep_err = (100 - metrics.accuracy_score(y_test_rep, knn_pred_rep)*100)\n",
    "knn_rem_err = (100 - metrics.accuracy_score(y_test_rem, knn_pred_rem)*100)\n",
    "print(f'KNN error replaced = {round(knn_rep_err, 2)}%') \n",
    "print(f'KNN error removed = {round(knn_rem_err, 2)}%')"
   ]
  },
  {
   "cell_type": "markdown",
   "metadata": {},
   "source": [
    "### iv] RMSE"
   ]
  },
  {
   "cell_type": "code",
   "execution_count": null,
   "metadata": {},
   "outputs": [],
   "source": [
    "import numpy as np"
   ]
  },
  {
   "cell_type": "code",
   "execution_count": null,
   "metadata": {},
   "outputs": [],
   "source": [
    "from sklearn.metrics import mean_squared_error"
   ]
  },
  {
   "cell_type": "code",
   "execution_count": null,
   "metadata": {},
   "outputs": [],
   "source": [
    "knn_acc_rem = np.sqrt(mean_squared_error(y_test_rem, knn_pred_rem))\n",
    "knn_acc_rep = np.sqrt(mean_squared_error(y_test_rep, knn_pred_rep))"
   ]
  },
  {
   "cell_type": "code",
   "execution_count": null,
   "metadata": {},
   "outputs": [],
   "source": [
    "print(f'KNN prediction Accuracy with removed values = {knn_acc_rem}')\n",
    "print(f'KNN prediction Accuracy with replaced values = {knn_acc_rep}')"
   ]
  }
 ],
 "metadata": {
  "kernelspec": {
   "display_name": "Python 3.10.6 64-bit",
   "language": "python",
   "name": "python3"
  },
  "language_info": {
   "codemirror_mode": {
    "name": "ipython",
    "version": 3
   },
   "file_extension": ".py",
   "mimetype": "text/x-python",
   "name": "python",
   "nbconvert_exporter": "python",
   "pygments_lexer": "ipython3",
   "version": "3.10.6"
  },
  "orig_nbformat": 4,
  "vscode": {
   "interpreter": {
    "hash": "868361593f3a50862dbeaab09270dc635efd18661646f8847ef85d2162f145c0"
   }
  }
 },
 "nbformat": 4,
 "nbformat_minor": 2
}
